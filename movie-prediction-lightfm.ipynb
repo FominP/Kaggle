{
 "cells": [
  {
   "cell_type": "markdown",
   "id": "5d1d94f9",
   "metadata": {
    "papermill": {
     "duration": 0.003373,
     "end_time": "2024-06-28T02:03:41.226994",
     "exception": false,
     "start_time": "2024-06-28T02:03:41.223621",
     "status": "completed"
    },
    "tags": []
   },
   "source": [
    "### Description\n",
    "This is a movie prediction competition, we need to recommend movies for users based on their reviews and information about them"
   ]
  },
  {
   "cell_type": "code",
   "execution_count": 1,
   "id": "5625f345",
   "metadata": {
    "execution": {
     "iopub.execute_input": "2024-06-28T02:03:41.234949Z",
     "iopub.status.busy": "2024-06-28T02:03:41.234507Z",
     "iopub.status.idle": "2024-06-28T02:04:04.841075Z",
     "shell.execute_reply": "2024-06-28T02:04:04.839836Z"
    },
    "papermill": {
     "duration": 23.613645,
     "end_time": "2024-06-28T02:04:04.843744",
     "exception": false,
     "start_time": "2024-06-28T02:03:41.230099",
     "status": "completed"
    },
    "tags": []
   },
   "outputs": [
    {
     "name": "stdout",
     "output_type": "stream",
     "text": [
      "Collecting lightfm\r\n",
      "  Downloading lightfm-1.17.tar.gz (316 kB)\r\n",
      "\u001b[2K     \u001b[90m━━━━━━━━━━━━━━━━━━━━━━━━━━━━━━━━━━━━━━━\u001b[0m \u001b[32m316.4/316.4 kB\u001b[0m \u001b[31m9.9 MB/s\u001b[0m eta \u001b[36m0:00:00\u001b[0m\r\n",
      "\u001b[?25h  Preparing metadata (setup.py) ... \u001b[?25l-\b \b\\\b \bdone\r\n",
      "\u001b[?25hRequirement already satisfied: numpy in /opt/conda/lib/python3.10/site-packages (from lightfm) (1.26.4)\r\n",
      "Requirement already satisfied: scipy>=0.17.0 in /opt/conda/lib/python3.10/site-packages (from lightfm) (1.11.4)\r\n",
      "Requirement already satisfied: requests in /opt/conda/lib/python3.10/site-packages (from lightfm) (2.32.3)\r\n",
      "Requirement already satisfied: scikit-learn in /opt/conda/lib/python3.10/site-packages (from lightfm) (1.2.2)\r\n",
      "Requirement already satisfied: charset-normalizer<4,>=2 in /opt/conda/lib/python3.10/site-packages (from requests->lightfm) (3.3.2)\r\n",
      "Requirement already satisfied: idna<4,>=2.5 in /opt/conda/lib/python3.10/site-packages (from requests->lightfm) (3.6)\r\n",
      "Requirement already satisfied: urllib3<3,>=1.21.1 in /opt/conda/lib/python3.10/site-packages (from requests->lightfm) (1.26.18)\r\n",
      "Requirement already satisfied: certifi>=2017.4.17 in /opt/conda/lib/python3.10/site-packages (from requests->lightfm) (2024.2.2)\r\n",
      "Requirement already satisfied: joblib>=1.1.1 in /opt/conda/lib/python3.10/site-packages (from scikit-learn->lightfm) (1.4.2)\r\n",
      "Requirement already satisfied: threadpoolctl>=2.0.0 in /opt/conda/lib/python3.10/site-packages (from scikit-learn->lightfm) (3.2.0)\r\n",
      "Building wheels for collected packages: lightfm\r\n",
      "  Building wheel for lightfm (setup.py) ... \u001b[?25l-\b \b\\\b \b|\b \bdone\r\n",
      "\u001b[?25h  Created wheel for lightfm: filename=lightfm-1.17-cp310-cp310-linux_x86_64.whl size=464211 sha256=c1e68e06d2e5587c51d51071f67f62477362ce523282014b34af47b6603178d8\r\n",
      "  Stored in directory: /root/.cache/pip/wheels/4f/9b/7e/0b256f2168511d8fa4dae4fae0200fdbd729eb424a912ad636\r\n",
      "Successfully built lightfm\r\n",
      "Installing collected packages: lightfm\r\n",
      "Successfully installed lightfm-1.17\r\n"
     ]
    }
   ],
   "source": [
    "!pip install lightfm"
   ]
  },
  {
   "cell_type": "code",
   "execution_count": 2,
   "id": "b523cd35",
   "metadata": {
    "_cell_guid": "b1076dfc-b9ad-4769-8c92-a6c4dae69d19",
    "_uuid": "8f2839f25d086af736a60e9eeb907d3b93b6e0e5",
    "execution": {
     "iopub.execute_input": "2024-06-28T02:04:04.853542Z",
     "iopub.status.busy": "2024-06-28T02:04:04.853147Z",
     "iopub.status.idle": "2024-06-28T02:04:05.659069Z",
     "shell.execute_reply": "2024-06-28T02:04:05.657822Z"
    },
    "papermill": {
     "duration": 0.813487,
     "end_time": "2024-06-28T02:04:05.661349",
     "exception": false,
     "start_time": "2024-06-28T02:04:04.847862",
     "status": "completed"
    },
    "tags": []
   },
   "outputs": [
    {
     "name": "stdout",
     "output_type": "stream",
     "text": [
      "/kaggle/input/rec-sys-challenge-task-course-2023/train.csv\n",
      "/kaggle/input/rec-sys-challenge-task-course-2023/kaggle_baseline.csv\n"
     ]
    }
   ],
   "source": [
    "# This Python 3 environment comes with many helpful analytics libraries installed\n",
    "# It is defined by the kaggle/python Docker image: https://github.com/kaggle/docker-python\n",
    "# For example, here's several helpful packages to load\n",
    "\n",
    "import numpy as np # linear algebra\n",
    "import pandas as pd # data processing, CSV file I/O (e.g. pd.read_csv)\n",
    "\n",
    "# Input data files are available in the read-only \"../input/\" directory\n",
    "# For example, running this (by clicking run or pressing Shift+Enter) will list all files under the input directory\n",
    "\n",
    "import os\n",
    "for dirname, _, filenames in os.walk('/kaggle/input'):\n",
    "    for filename in filenames:\n",
    "        print(os.path.join(dirname, filename))\n",
    "\n",
    "# You can write up to 20GB to the current directory (/kaggle/working/) that gets preserved as output when you create a version using \"Save & Run All\" \n",
    "# You can also write temporary files to /kaggle/temp/, but they won't be saved outside of the current session"
   ]
  },
  {
   "cell_type": "code",
   "execution_count": 3,
   "id": "4ad83a19",
   "metadata": {
    "execution": {
     "iopub.execute_input": "2024-06-28T02:04:05.671067Z",
     "iopub.status.busy": "2024-06-28T02:04:05.670578Z",
     "iopub.status.idle": "2024-06-28T02:04:06.966724Z",
     "shell.execute_reply": "2024-06-28T02:04:06.965714Z"
    },
    "papermill": {
     "duration": 1.303586,
     "end_time": "2024-06-28T02:04:06.969142",
     "exception": false,
     "start_time": "2024-06-28T02:04:05.665556",
     "status": "completed"
    },
    "tags": []
   },
   "outputs": [
    {
     "data": {
      "text/html": [
       "<div>\n",
       "<style scoped>\n",
       "    .dataframe tbody tr th:only-of-type {\n",
       "        vertical-align: middle;\n",
       "    }\n",
       "\n",
       "    .dataframe tbody tr th {\n",
       "        vertical-align: top;\n",
       "    }\n",
       "\n",
       "    .dataframe thead th {\n",
       "        text-align: right;\n",
       "    }\n",
       "</style>\n",
       "<table border=\"1\" class=\"dataframe\">\n",
       "  <thead>\n",
       "    <tr style=\"text-align: right;\">\n",
       "      <th></th>\n",
       "      <th>user_id</th>\n",
       "      <th>title</th>\n",
       "      <th>movie_id</th>\n",
       "      <th>rating</th>\n",
       "      <th>release_date</th>\n",
       "      <th>sex</th>\n",
       "      <th>age</th>\n",
       "    </tr>\n",
       "  </thead>\n",
       "  <tbody>\n",
       "    <tr>\n",
       "      <th>0</th>\n",
       "      <td>2592</td>\n",
       "      <td>Top Gun (1986)</td>\n",
       "      <td>1101</td>\n",
       "      <td>4</td>\n",
       "      <td>Action|Romance</td>\n",
       "      <td>50</td>\n",
       "      <td>M</td>\n",
       "    </tr>\n",
       "    <tr>\n",
       "      <th>1</th>\n",
       "      <td>4318</td>\n",
       "      <td>12 Angry Men (1957)</td>\n",
       "      <td>1203</td>\n",
       "      <td>4</td>\n",
       "      <td>Drama</td>\n",
       "      <td>25</td>\n",
       "      <td>M</td>\n",
       "    </tr>\n",
       "    <tr>\n",
       "      <th>2</th>\n",
       "      <td>2756</td>\n",
       "      <td>Robocop 2 (1990)</td>\n",
       "      <td>2986</td>\n",
       "      <td>2</td>\n",
       "      <td>Action|Crime|Sci-Fi</td>\n",
       "      <td>18</td>\n",
       "      <td>M</td>\n",
       "    </tr>\n",
       "    <tr>\n",
       "      <th>3</th>\n",
       "      <td>1706</td>\n",
       "      <td>Modern Times (1936)</td>\n",
       "      <td>3462</td>\n",
       "      <td>5</td>\n",
       "      <td>Comedy</td>\n",
       "      <td>25</td>\n",
       "      <td>M</td>\n",
       "    </tr>\n",
       "    <tr>\n",
       "      <th>4</th>\n",
       "      <td>4813</td>\n",
       "      <td>Milk Money (1994)</td>\n",
       "      <td>276</td>\n",
       "      <td>3</td>\n",
       "      <td>Comedy|Romance</td>\n",
       "      <td>35</td>\n",
       "      <td>F</td>\n",
       "    </tr>\n",
       "  </tbody>\n",
       "</table>\n",
       "</div>"
      ],
      "text/plain": [
       "   user_id                title  movie_id  rating         release_date  sex  \\\n",
       "0     2592       Top Gun (1986)      1101       4       Action|Romance   50   \n",
       "1     4318  12 Angry Men (1957)      1203       4                Drama   25   \n",
       "2     2756     Robocop 2 (1990)      2986       2  Action|Crime|Sci-Fi   18   \n",
       "3     1706  Modern Times (1936)      3462       5               Comedy   25   \n",
       "4     4813    Milk Money (1994)       276       3       Comedy|Romance   35   \n",
       "\n",
       "  age  \n",
       "0   M  \n",
       "1   M  \n",
       "2   M  \n",
       "3   M  \n",
       "4   F  "
      ]
     },
     "execution_count": 3,
     "metadata": {},
     "output_type": "execute_result"
    }
   ],
   "source": [
    "df = pd.read_csv('/kaggle/input/rec-sys-challenge-task-course-2023/train.csv')\n",
    "df.head()"
   ]
  },
  {
   "cell_type": "code",
   "execution_count": 4,
   "id": "f2808f5a",
   "metadata": {
    "execution": {
     "iopub.execute_input": "2024-06-28T02:04:06.980004Z",
     "iopub.status.busy": "2024-06-28T02:04:06.979033Z",
     "iopub.status.idle": "2024-06-28T02:04:06.993410Z",
     "shell.execute_reply": "2024-06-28T02:04:06.992388Z"
    },
    "papermill": {
     "duration": 0.022192,
     "end_time": "2024-06-28T02:04:06.995588",
     "exception": false,
     "start_time": "2024-06-28T02:04:06.973396",
     "status": "completed"
    },
    "tags": []
   },
   "outputs": [
    {
     "data": {
      "text/html": [
       "<div>\n",
       "<style scoped>\n",
       "    .dataframe tbody tr th:only-of-type {\n",
       "        vertical-align: middle;\n",
       "    }\n",
       "\n",
       "    .dataframe tbody tr th {\n",
       "        vertical-align: top;\n",
       "    }\n",
       "\n",
       "    .dataframe thead th {\n",
       "        text-align: right;\n",
       "    }\n",
       "</style>\n",
       "<table border=\"1\" class=\"dataframe\">\n",
       "  <thead>\n",
       "    <tr style=\"text-align: right;\">\n",
       "      <th></th>\n",
       "      <th>user_id</th>\n",
       "      <th>title</th>\n",
       "      <th>movie_id</th>\n",
       "      <th>rating</th>\n",
       "      <th>release_date</th>\n",
       "      <th>age</th>\n",
       "      <th>sex</th>\n",
       "    </tr>\n",
       "  </thead>\n",
       "  <tbody>\n",
       "    <tr>\n",
       "      <th>0</th>\n",
       "      <td>2592</td>\n",
       "      <td>Top Gun (1986)</td>\n",
       "      <td>1101</td>\n",
       "      <td>4</td>\n",
       "      <td>Action|Romance</td>\n",
       "      <td>50</td>\n",
       "      <td>M</td>\n",
       "    </tr>\n",
       "    <tr>\n",
       "      <th>1</th>\n",
       "      <td>4318</td>\n",
       "      <td>12 Angry Men (1957)</td>\n",
       "      <td>1203</td>\n",
       "      <td>4</td>\n",
       "      <td>Drama</td>\n",
       "      <td>25</td>\n",
       "      <td>M</td>\n",
       "    </tr>\n",
       "    <tr>\n",
       "      <th>2</th>\n",
       "      <td>2756</td>\n",
       "      <td>Robocop 2 (1990)</td>\n",
       "      <td>2986</td>\n",
       "      <td>2</td>\n",
       "      <td>Action|Crime|Sci-Fi</td>\n",
       "      <td>18</td>\n",
       "      <td>M</td>\n",
       "    </tr>\n",
       "    <tr>\n",
       "      <th>3</th>\n",
       "      <td>1706</td>\n",
       "      <td>Modern Times (1936)</td>\n",
       "      <td>3462</td>\n",
       "      <td>5</td>\n",
       "      <td>Comedy</td>\n",
       "      <td>25</td>\n",
       "      <td>M</td>\n",
       "    </tr>\n",
       "    <tr>\n",
       "      <th>4</th>\n",
       "      <td>4813</td>\n",
       "      <td>Milk Money (1994)</td>\n",
       "      <td>276</td>\n",
       "      <td>3</td>\n",
       "      <td>Comedy|Romance</td>\n",
       "      <td>35</td>\n",
       "      <td>F</td>\n",
       "    </tr>\n",
       "  </tbody>\n",
       "</table>\n",
       "</div>"
      ],
      "text/plain": [
       "   user_id                title  movie_id  rating         release_date  age  \\\n",
       "0     2592       Top Gun (1986)      1101       4       Action|Romance   50   \n",
       "1     4318  12 Angry Men (1957)      1203       4                Drama   25   \n",
       "2     2756     Robocop 2 (1990)      2986       2  Action|Crime|Sci-Fi   18   \n",
       "3     1706  Modern Times (1936)      3462       5               Comedy   25   \n",
       "4     4813    Milk Money (1994)       276       3       Comedy|Romance   35   \n",
       "\n",
       "  sex  \n",
       "0   M  \n",
       "1   M  \n",
       "2   M  \n",
       "3   M  \n",
       "4   F  "
      ]
     },
     "execution_count": 4,
     "metadata": {},
     "output_type": "execute_result"
    }
   ],
   "source": [
    "df.rename(columns={'age': 'gender'}, inplace=True)\n",
    "df.rename(columns={'sex': 'age'}, inplace=True)\n",
    "df.rename(columns={'gender': 'sex'}, inplace=True)\n",
    "df.head()"
   ]
  },
  {
   "cell_type": "markdown",
   "id": "3d5ee753",
   "metadata": {
    "papermill": {
     "duration": 0.004439,
     "end_time": "2024-06-28T02:04:07.004545",
     "exception": false,
     "start_time": "2024-06-28T02:04:07.000106",
     "status": "completed"
    },
    "tags": []
   },
   "source": [
    "### Prepare data and fit model with train dataset"
   ]
  },
  {
   "cell_type": "code",
   "execution_count": 5,
   "id": "db4a2175",
   "metadata": {
    "execution": {
     "iopub.execute_input": "2024-06-28T02:04:07.015799Z",
     "iopub.status.busy": "2024-06-28T02:04:07.014743Z",
     "iopub.status.idle": "2024-06-28T02:06:36.222546Z",
     "shell.execute_reply": "2024-06-28T02:06:36.221177Z"
    },
    "papermill": {
     "duration": 149.216618,
     "end_time": "2024-06-28T02:06:36.225722",
     "exception": false,
     "start_time": "2024-06-28T02:04:07.009104",
     "status": "completed"
    },
    "tags": []
   },
   "outputs": [
    {
     "data": {
      "text/plain": [
       "<lightfm.lightfm.LightFM at 0x7fc21762e770>"
      ]
     },
     "execution_count": 5,
     "metadata": {},
     "output_type": "execute_result"
    }
   ],
   "source": [
    "from lightfm import LightFM\n",
    "from lightfm.data import Dataset\n",
    "\n",
    "dataset = Dataset()\n",
    "dataset.fit(\n",
    "    users=df['user_id'].unique(),\n",
    "    items=df['movie_id'].unique(),\n",
    "    user_features=df['sex'].unique(),\n",
    "    item_features=df['release_date'].unique()\n",
    ")\n",
    "\n",
    "interactions, weights = dataset.build_interactions([(row['user_id'], row['movie_id'], row['rating']) for index, row in df.iterrows()])\n",
    "user_features = dataset.build_user_features([(row['user_id'], [row['sex']]) for index, row in df.iterrows()])\n",
    "item_features = dataset.build_item_features([(row['movie_id'], [row['release_date']]) for index, row in df.iterrows()])\n",
    "\n",
    "model = LightFM(loss='warp')\n",
    "model.fit(interactions, user_features=user_features, item_features=item_features)"
   ]
  },
  {
   "cell_type": "markdown",
   "id": "ab9a5a9c",
   "metadata": {
    "papermill": {
     "duration": 0.006541,
     "end_time": "2024-06-28T02:06:36.239114",
     "exception": false,
     "start_time": "2024-06-28T02:06:36.232573",
     "status": "completed"
    },
    "tags": []
   },
   "source": [
    "### Generate predictions for the test dataset and create a submission file"
   ]
  },
  {
   "cell_type": "code",
   "execution_count": 6,
   "id": "5e912a5e",
   "metadata": {
    "execution": {
     "iopub.execute_input": "2024-06-28T02:06:36.254622Z",
     "iopub.status.busy": "2024-06-28T02:06:36.253847Z",
     "iopub.status.idle": "2024-06-28T02:06:42.364835Z",
     "shell.execute_reply": "2024-06-28T02:06:42.363722Z"
    },
    "papermill": {
     "duration": 6.121576,
     "end_time": "2024-06-28T02:06:42.367407",
     "exception": false,
     "start_time": "2024-06-28T02:06:36.245831",
     "status": "completed"
    },
    "tags": []
   },
   "outputs": [],
   "source": [
    "testset = pd.read_csv('/kaggle/input/rec-sys-challenge-task-course-2023/kaggle_baseline.csv')\n",
    "\n",
    "user_id_map = {user_id: internal_index for user_id, internal_index in zip(df['user_id'].unique(), range(len(df['user_id'].unique())))}\n",
    "item_id_map = {item_id: internal_index for item_id, internal_index in zip(df['movie_id'].unique(), range(len(df['movie_id'].unique())))}\n",
    "\n",
    "def get_top_n_recommendations(model, testset, user_id_map, item_id_map, n=25):\n",
    "    top_n = {}\n",
    "    for user_id in testset['user_id'].unique():\n",
    "        internal_user_id = user_id_map[user_id]\n",
    "        internal_item_ids = list(item_id_map.values())     \n",
    "        scores = model.predict(internal_user_id, internal_item_ids)\n",
    "        original_item_ids = list(item_id_map.keys())\n",
    "        top_items_indices = np.argsort(-scores)[:n]\n",
    "        top_items = [original_item_ids[idx] for idx in top_items_indices]\n",
    "        top_n[user_id] = top_items\n",
    "    return top_n\n",
    "\n",
    "top_n_recommendations = get_top_n_recommendations(model, testset, user_id_map, item_id_map, n=25)\n",
    "\n",
    "# Create submission file\n",
    "with open('submission.csv', 'w', encoding='UTF8') as f:\n",
    "    f.write('user_id,prediction\\n')\n",
    "    for user_id, recommendations in top_n_recommendations.items():\n",
    "        f.write(f\"{user_id},{' '.join(map(str, recommendations))}\\n\")"
   ]
  }
 ],
 "metadata": {
  "kaggle": {
   "accelerator": "none",
   "dataSources": [
    {
     "databundleVersionId": 8690534,
     "sourceId": 80774,
     "sourceType": "competition"
    }
   ],
   "dockerImageVersionId": 30732,
   "isGpuEnabled": false,
   "isInternetEnabled": true,
   "language": "python",
   "sourceType": "notebook"
  },
  "kernelspec": {
   "display_name": "Python 3",
   "language": "python",
   "name": "python3"
  },
  "language_info": {
   "codemirror_mode": {
    "name": "ipython",
    "version": 3
   },
   "file_extension": ".py",
   "mimetype": "text/x-python",
   "name": "python",
   "nbconvert_exporter": "python",
   "pygments_lexer": "ipython3",
   "version": "3.10.13"
  },
  "papermill": {
   "default_parameters": {},
   "duration": 184.42259,
   "end_time": "2024-06-28T02:06:42.993484",
   "environment_variables": {},
   "exception": null,
   "input_path": "__notebook__.ipynb",
   "output_path": "__notebook__.ipynb",
   "parameters": {},
   "start_time": "2024-06-28T02:03:38.570894",
   "version": "2.5.0"
  }
 },
 "nbformat": 4,
 "nbformat_minor": 5
}
