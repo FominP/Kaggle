{
 "cells": [
  {
   "cell_type": "markdown",
   "id": "7b8f0dc2",
   "metadata": {
    "papermill": {
     "duration": 0.005858,
     "end_time": "2024-06-28T12:34:10.372424",
     "exception": false,
     "start_time": "2024-06-28T12:34:10.366566",
     "status": "completed"
    },
    "tags": []
   },
   "source": [
    "### Description\n",
    "This is a movie prediction competition, we need to recommend movies for users based on their reviews and information about them"
   ]
  },
  {
   "cell_type": "code",
   "execution_count": 1,
   "id": "d1832f67",
   "metadata": {
    "_cell_guid": "b1076dfc-b9ad-4769-8c92-a6c4dae69d19",
    "_uuid": "8f2839f25d086af736a60e9eeb907d3b93b6e0e5",
    "execution": {
     "iopub.execute_input": "2024-06-28T12:34:10.384627Z",
     "iopub.status.busy": "2024-06-28T12:34:10.383893Z",
     "iopub.status.idle": "2024-06-28T12:34:11.268789Z",
     "shell.execute_reply": "2024-06-28T12:34:11.267278Z"
    },
    "papermill": {
     "duration": 0.893598,
     "end_time": "2024-06-28T12:34:11.271419",
     "exception": false,
     "start_time": "2024-06-28T12:34:10.377821",
     "status": "completed"
    },
    "tags": []
   },
   "outputs": [
    {
     "name": "stdout",
     "output_type": "stream",
     "text": [
      "/kaggle/input/rec-sys-challenge-task-course-2023/train.csv\n",
      "/kaggle/input/rec-sys-challenge-task-course-2023/kaggle_baseline.csv\n"
     ]
    }
   ],
   "source": [
    "# This Python 3 environment comes with many helpful analytics libraries installed\n",
    "# It is defined by the kaggle/python Docker image: https://github.com/kaggle/docker-python\n",
    "# For example, here's severabl helpful packages to load\n",
    "\n",
    "import numpy as np # linear algebra\n",
    "import pandas as pd # data processing, CSV file I/O (e.g. pd.read_csv)\n",
    "\n",
    "# Input data files are available in the read-only \"../input/\" directory\n",
    "# For example, running this (by clicking run or pressing Shift+Enter) will list all files under the input directory\n",
    "\n",
    "import os\n",
    "for dirname, _, filenames in os.walk('/kaggle/input'):\n",
    "    for filename in filenames:\n",
    "        print(os.path.join(dirname, filename))\n",
    "\n",
    "# You can write up to 20GB to the current directory (/kaggle/working/) that gets preserved as output when you create a version using \"Save & Run All\" \n",
    "# You can also write temporary files to /kaggle/temp/, but they won't be saved outside of the current session"
   ]
  },
  {
   "cell_type": "markdown",
   "id": "78740814",
   "metadata": {
    "papermill": {
     "duration": 0.004165,
     "end_time": "2024-06-28T12:34:11.280148",
     "exception": false,
     "start_time": "2024-06-28T12:34:11.275983",
     "status": "completed"
    },
    "tags": []
   },
   "source": [
    "### Load and prepare data"
   ]
  },
  {
   "cell_type": "code",
   "execution_count": 2,
   "id": "d5a082c3",
   "metadata": {
    "execution": {
     "iopub.execute_input": "2024-06-28T12:34:11.290917Z",
     "iopub.status.busy": "2024-06-28T12:34:11.290340Z",
     "iopub.status.idle": "2024-06-28T12:34:28.571175Z",
     "shell.execute_reply": "2024-06-28T12:34:28.570009Z"
    },
    "papermill": {
     "duration": 17.2893,
     "end_time": "2024-06-28T12:34:28.573892",
     "exception": false,
     "start_time": "2024-06-28T12:34:11.284592",
     "status": "completed"
    },
    "tags": []
   },
   "outputs": [
    {
     "name": "stderr",
     "output_type": "stream",
     "text": [
      "2024-06-28 12:34:13.567694: E external/local_xla/xla/stream_executor/cuda/cuda_dnn.cc:9261] Unable to register cuDNN factory: Attempting to register factory for plugin cuDNN when one has already been registered\n",
      "2024-06-28 12:34:13.567847: E external/local_xla/xla/stream_executor/cuda/cuda_fft.cc:607] Unable to register cuFFT factory: Attempting to register factory for plugin cuFFT when one has already been registered\n",
      "2024-06-28 12:34:13.729480: E external/local_xla/xla/stream_executor/cuda/cuda_blas.cc:1515] Unable to register cuBLAS factory: Attempting to register factory for plugin cuBLAS when one has already been registered\n"
     ]
    },
    {
     "data": {
      "text/html": [
       "<div>\n",
       "<style scoped>\n",
       "    .dataframe tbody tr th:only-of-type {\n",
       "        vertical-align: middle;\n",
       "    }\n",
       "\n",
       "    .dataframe tbody tr th {\n",
       "        vertical-align: top;\n",
       "    }\n",
       "\n",
       "    .dataframe thead th {\n",
       "        text-align: right;\n",
       "    }\n",
       "</style>\n",
       "<table border=\"1\" class=\"dataframe\">\n",
       "  <thead>\n",
       "    <tr style=\"text-align: right;\">\n",
       "      <th></th>\n",
       "      <th>user_id</th>\n",
       "      <th>title</th>\n",
       "      <th>movie_id</th>\n",
       "      <th>rating</th>\n",
       "      <th>release_date</th>\n",
       "      <th>sex</th>\n",
       "      <th>age</th>\n",
       "    </tr>\n",
       "  </thead>\n",
       "  <tbody>\n",
       "    <tr>\n",
       "      <th>0</th>\n",
       "      <td>2592</td>\n",
       "      <td>Top Gun (1986)</td>\n",
       "      <td>1101</td>\n",
       "      <td>4</td>\n",
       "      <td>Action|Romance</td>\n",
       "      <td>50</td>\n",
       "      <td>M</td>\n",
       "    </tr>\n",
       "    <tr>\n",
       "      <th>1</th>\n",
       "      <td>4318</td>\n",
       "      <td>12 Angry Men (1957)</td>\n",
       "      <td>1203</td>\n",
       "      <td>4</td>\n",
       "      <td>Drama</td>\n",
       "      <td>25</td>\n",
       "      <td>M</td>\n",
       "    </tr>\n",
       "    <tr>\n",
       "      <th>2</th>\n",
       "      <td>2756</td>\n",
       "      <td>Robocop 2 (1990)</td>\n",
       "      <td>2986</td>\n",
       "      <td>2</td>\n",
       "      <td>Action|Crime|Sci-Fi</td>\n",
       "      <td>18</td>\n",
       "      <td>M</td>\n",
       "    </tr>\n",
       "    <tr>\n",
       "      <th>3</th>\n",
       "      <td>1706</td>\n",
       "      <td>Modern Times (1936)</td>\n",
       "      <td>3462</td>\n",
       "      <td>5</td>\n",
       "      <td>Comedy</td>\n",
       "      <td>25</td>\n",
       "      <td>M</td>\n",
       "    </tr>\n",
       "    <tr>\n",
       "      <th>4</th>\n",
       "      <td>4813</td>\n",
       "      <td>Milk Money (1994)</td>\n",
       "      <td>276</td>\n",
       "      <td>3</td>\n",
       "      <td>Comedy|Romance</td>\n",
       "      <td>35</td>\n",
       "      <td>F</td>\n",
       "    </tr>\n",
       "  </tbody>\n",
       "</table>\n",
       "</div>"
      ],
      "text/plain": [
       "   user_id                title  movie_id  rating         release_date  sex  \\\n",
       "0     2592       Top Gun (1986)      1101       4       Action|Romance   50   \n",
       "1     4318  12 Angry Men (1957)      1203       4                Drama   25   \n",
       "2     2756     Robocop 2 (1990)      2986       2  Action|Crime|Sci-Fi   18   \n",
       "3     1706  Modern Times (1936)      3462       5               Comedy   25   \n",
       "4     4813    Milk Money (1994)       276       3       Comedy|Romance   35   \n",
       "\n",
       "  age  \n",
       "0   M  \n",
       "1   M  \n",
       "2   M  \n",
       "3   M  \n",
       "4   F  "
      ]
     },
     "execution_count": 2,
     "metadata": {},
     "output_type": "execute_result"
    }
   ],
   "source": [
    "import tensorflow as tf\n",
    "from tensorflow.keras.layers import Input, Embedding, Flatten, Dot, Dense, Concatenate\n",
    "from tensorflow.keras.models import Model\n",
    "from sklearn.model_selection import train_test_split\n",
    "\n",
    "# Load data\n",
    "df = pd.read_csv('/kaggle/input/rec-sys-challenge-task-course-2023/train.csv')\n",
    "df.head()"
   ]
  },
  {
   "cell_type": "code",
   "execution_count": 3,
   "id": "73db99b0",
   "metadata": {
    "execution": {
     "iopub.execute_input": "2024-06-28T12:34:28.586257Z",
     "iopub.status.busy": "2024-06-28T12:34:28.585835Z",
     "iopub.status.idle": "2024-06-28T12:34:28.602610Z",
     "shell.execute_reply": "2024-06-28T12:34:28.601600Z"
    },
    "papermill": {
     "duration": 0.02589,
     "end_time": "2024-06-28T12:34:28.604990",
     "exception": false,
     "start_time": "2024-06-28T12:34:28.579100",
     "status": "completed"
    },
    "tags": []
   },
   "outputs": [
    {
     "data": {
      "text/html": [
       "<div>\n",
       "<style scoped>\n",
       "    .dataframe tbody tr th:only-of-type {\n",
       "        vertical-align: middle;\n",
       "    }\n",
       "\n",
       "    .dataframe tbody tr th {\n",
       "        vertical-align: top;\n",
       "    }\n",
       "\n",
       "    .dataframe thead th {\n",
       "        text-align: right;\n",
       "    }\n",
       "</style>\n",
       "<table border=\"1\" class=\"dataframe\">\n",
       "  <thead>\n",
       "    <tr style=\"text-align: right;\">\n",
       "      <th></th>\n",
       "      <th>user_id</th>\n",
       "      <th>title</th>\n",
       "      <th>movie_id</th>\n",
       "      <th>rating</th>\n",
       "      <th>release_date</th>\n",
       "      <th>age</th>\n",
       "      <th>sex</th>\n",
       "    </tr>\n",
       "  </thead>\n",
       "  <tbody>\n",
       "    <tr>\n",
       "      <th>0</th>\n",
       "      <td>2592</td>\n",
       "      <td>Top Gun (1986)</td>\n",
       "      <td>1101</td>\n",
       "      <td>4</td>\n",
       "      <td>Action|Romance</td>\n",
       "      <td>50</td>\n",
       "      <td>M</td>\n",
       "    </tr>\n",
       "    <tr>\n",
       "      <th>1</th>\n",
       "      <td>4318</td>\n",
       "      <td>12 Angry Men (1957)</td>\n",
       "      <td>1203</td>\n",
       "      <td>4</td>\n",
       "      <td>Drama</td>\n",
       "      <td>25</td>\n",
       "      <td>M</td>\n",
       "    </tr>\n",
       "    <tr>\n",
       "      <th>2</th>\n",
       "      <td>2756</td>\n",
       "      <td>Robocop 2 (1990)</td>\n",
       "      <td>2986</td>\n",
       "      <td>2</td>\n",
       "      <td>Action|Crime|Sci-Fi</td>\n",
       "      <td>18</td>\n",
       "      <td>M</td>\n",
       "    </tr>\n",
       "    <tr>\n",
       "      <th>3</th>\n",
       "      <td>1706</td>\n",
       "      <td>Modern Times (1936)</td>\n",
       "      <td>3462</td>\n",
       "      <td>5</td>\n",
       "      <td>Comedy</td>\n",
       "      <td>25</td>\n",
       "      <td>M</td>\n",
       "    </tr>\n",
       "    <tr>\n",
       "      <th>4</th>\n",
       "      <td>4813</td>\n",
       "      <td>Milk Money (1994)</td>\n",
       "      <td>276</td>\n",
       "      <td>3</td>\n",
       "      <td>Comedy|Romance</td>\n",
       "      <td>35</td>\n",
       "      <td>F</td>\n",
       "    </tr>\n",
       "  </tbody>\n",
       "</table>\n",
       "</div>"
      ],
      "text/plain": [
       "   user_id                title  movie_id  rating         release_date  age  \\\n",
       "0     2592       Top Gun (1986)      1101       4       Action|Romance   50   \n",
       "1     4318  12 Angry Men (1957)      1203       4                Drama   25   \n",
       "2     2756     Robocop 2 (1990)      2986       2  Action|Crime|Sci-Fi   18   \n",
       "3     1706  Modern Times (1936)      3462       5               Comedy   25   \n",
       "4     4813    Milk Money (1994)       276       3       Comedy|Romance   35   \n",
       "\n",
       "  sex  \n",
       "0   M  \n",
       "1   M  \n",
       "2   M  \n",
       "3   M  \n",
       "4   F  "
      ]
     },
     "execution_count": 3,
     "metadata": {},
     "output_type": "execute_result"
    }
   ],
   "source": [
    "df.rename(columns={'age': 'gender'}, inplace=True)\n",
    "df.rename(columns={'sex': 'age'}, inplace=True)\n",
    "df.rename(columns={'gender': 'sex'}, inplace=True)\n",
    "df.head()"
   ]
  },
  {
   "cell_type": "code",
   "execution_count": 4,
   "id": "d3a6af43",
   "metadata": {
    "execution": {
     "iopub.execute_input": "2024-06-28T12:34:28.617335Z",
     "iopub.status.busy": "2024-06-28T12:34:28.616921Z",
     "iopub.status.idle": "2024-06-28T12:34:28.783453Z",
     "shell.execute_reply": "2024-06-28T12:34:28.782206Z"
    },
    "papermill": {
     "duration": 0.176252,
     "end_time": "2024-06-28T12:34:28.786553",
     "exception": false,
     "start_time": "2024-06-28T12:34:28.610301",
     "status": "completed"
    },
    "tags": []
   },
   "outputs": [],
   "source": [
    "user_ids = df['user_id'].unique().tolist()\n",
    "movie_ids = df['movie_id'].unique().tolist()\n",
    "\n",
    "user_id_to_index = {id: i for i, id in enumerate(user_ids)}\n",
    "movie_id_to_index = {id: i for i, id in enumerate(movie_ids)}\n",
    "\n",
    "df['user_index'] = df['user_id'].map(user_id_to_index)\n",
    "df['movie_index'] = df['movie_id'].map(movie_id_to_index)\n",
    "\n",
    "X = df[['user_index', 'movie_index']].values\n",
    "y = df['rating'].values\n",
    "\n",
    "X_train, X_test, y_train, y_test = train_test_split(X, y, test_size=0.2, random_state=42)"
   ]
  },
  {
   "cell_type": "markdown",
   "id": "4ebf3d98",
   "metadata": {
    "papermill": {
     "duration": 0.00484,
     "end_time": "2024-06-28T12:34:28.796791",
     "exception": false,
     "start_time": "2024-06-28T12:34:28.791951",
     "status": "completed"
    },
    "tags": []
   },
   "source": [
    "### Define and train model"
   ]
  },
  {
   "cell_type": "code",
   "execution_count": 5,
   "id": "1a1da219",
   "metadata": {
    "execution": {
     "iopub.execute_input": "2024-06-28T12:34:28.809408Z",
     "iopub.status.busy": "2024-06-28T12:34:28.808317Z",
     "iopub.status.idle": "2024-06-28T12:41:26.392533Z",
     "shell.execute_reply": "2024-06-28T12:41:26.391332Z"
    },
    "papermill": {
     "duration": 417.593109,
     "end_time": "2024-06-28T12:41:26.395030",
     "exception": false,
     "start_time": "2024-06-28T12:34:28.801921",
     "status": "completed"
    },
    "tags": []
   },
   "outputs": [
    {
     "name": "stdout",
     "output_type": "stream",
     "text": [
      "Epoch 1/10\n",
      "\u001b[1m10003/10003\u001b[0m \u001b[32m━━━━━━━━━━━━━━━━━━━━\u001b[0m\u001b[37m\u001b[0m \u001b[1m43s\u001b[0m 4ms/step - loss: 1.3811 - val_loss: 0.8256\n",
      "Epoch 2/10\n",
      "\u001b[1m10003/10003\u001b[0m \u001b[32m━━━━━━━━━━━━━━━━━━━━\u001b[0m\u001b[37m\u001b[0m \u001b[1m41s\u001b[0m 4ms/step - loss: 0.8083 - val_loss: 0.8003\n",
      "Epoch 3/10\n",
      "\u001b[1m10003/10003\u001b[0m \u001b[32m━━━━━━━━━━━━━━━━━━━━\u001b[0m\u001b[37m\u001b[0m \u001b[1m42s\u001b[0m 4ms/step - loss: 0.7704 - val_loss: 0.7851\n",
      "Epoch 4/10\n",
      "\u001b[1m10003/10003\u001b[0m \u001b[32m━━━━━━━━━━━━━━━━━━━━\u001b[0m\u001b[37m\u001b[0m \u001b[1m41s\u001b[0m 4ms/step - loss: 0.7460 - val_loss: 0.7887\n",
      "Epoch 5/10\n",
      "\u001b[1m10003/10003\u001b[0m \u001b[32m━━━━━━━━━━━━━━━━━━━━\u001b[0m\u001b[37m\u001b[0m \u001b[1m41s\u001b[0m 4ms/step - loss: 0.7268 - val_loss: 0.7789\n",
      "Epoch 6/10\n",
      "\u001b[1m10003/10003\u001b[0m \u001b[32m━━━━━━━━━━━━━━━━━━━━\u001b[0m\u001b[37m\u001b[0m \u001b[1m41s\u001b[0m 4ms/step - loss: 0.7002 - val_loss: 0.7752\n",
      "Epoch 7/10\n",
      "\u001b[1m10003/10003\u001b[0m \u001b[32m━━━━━━━━━━━━━━━━━━━━\u001b[0m\u001b[37m\u001b[0m \u001b[1m41s\u001b[0m 4ms/step - loss: 0.6716 - val_loss: 0.7789\n",
      "Epoch 8/10\n",
      "\u001b[1m10003/10003\u001b[0m \u001b[32m━━━━━━━━━━━━━━━━━━━━\u001b[0m\u001b[37m\u001b[0m \u001b[1m42s\u001b[0m 4ms/step - loss: 0.6414 - val_loss: 0.7812\n",
      "Epoch 9/10\n",
      "\u001b[1m10003/10003\u001b[0m \u001b[32m━━━━━━━━━━━━━━━━━━━━\u001b[0m\u001b[37m\u001b[0m \u001b[1m43s\u001b[0m 4ms/step - loss: 0.6140 - val_loss: 0.7929\n",
      "Epoch 10/10\n",
      "\u001b[1m10003/10003\u001b[0m \u001b[32m━━━━━━━━━━━━━━━━━━━━\u001b[0m\u001b[37m\u001b[0m \u001b[1m42s\u001b[0m 4ms/step - loss: 0.5882 - val_loss: 0.8079\n"
     ]
    },
    {
     "data": {
      "text/plain": [
       "<keras.src.callbacks.history.History at 0x7f5f3c96ba60>"
      ]
     },
     "execution_count": 5,
     "metadata": {},
     "output_type": "execute_result"
    }
   ],
   "source": [
    "user_input = Input(shape=(1,), name='user_input')\n",
    "movie_input = Input(shape=(1,), name='movie_input')\n",
    "\n",
    "user_embedding = Embedding(input_dim=len(user_ids), output_dim=50, name='user_embedding')(user_input)\n",
    "movie_embedding = Embedding(input_dim=len(movie_ids), output_dim=50, name='movie_embedding')(movie_input)\n",
    "\n",
    "user_vec = Flatten(name='flatten_users')(user_embedding)\n",
    "movie_vec = Flatten(name='flatten_movies')(movie_embedding)\n",
    "\n",
    "concat = Concatenate(name='concat')([user_vec, movie_vec])\n",
    "dense = Dense(128, activation='relu', name='dense')(concat)\n",
    "output = Dense(1, name='output')(dense)\n",
    "\n",
    "model = Model(inputs=[user_input, movie_input], outputs=output)\n",
    "\n",
    "model.compile(optimizer='adam', loss='mean_squared_error')\n",
    "model.fit([X_train[:, 0], X_train[:, 1]], y_train, epochs=10, batch_size=64, validation_data=([X_test[:, 0], X_test[:, 1]], y_test))"
   ]
  },
  {
   "cell_type": "markdown",
   "id": "c43638a2",
   "metadata": {
    "papermill": {
     "duration": 0.726026,
     "end_time": "2024-06-28T12:41:27.952625",
     "exception": false,
     "start_time": "2024-06-28T12:41:27.226599",
     "status": "completed"
    },
    "tags": []
   },
   "source": [
    "### Generate predictions for the test dataset and create a submission file"
   ]
  },
  {
   "cell_type": "code",
   "execution_count": 6,
   "id": "b9a1826c",
   "metadata": {
    "execution": {
     "iopub.execute_input": "2024-06-28T12:41:29.405908Z",
     "iopub.status.busy": "2024-06-28T12:41:29.405499Z",
     "iopub.status.idle": "2024-06-28T12:41:29.487873Z",
     "shell.execute_reply": "2024-06-28T12:41:29.486689Z"
    },
    "papermill": {
     "duration": 0.816498,
     "end_time": "2024-06-28T12:41:29.490735",
     "exception": false,
     "start_time": "2024-06-28T12:41:28.674237",
     "status": "completed"
    },
    "tags": []
   },
   "outputs": [
    {
     "data": {
      "text/html": [
       "<div>\n",
       "<style scoped>\n",
       "    .dataframe tbody tr th:only-of-type {\n",
       "        vertical-align: middle;\n",
       "    }\n",
       "\n",
       "    .dataframe tbody tr th {\n",
       "        vertical-align: top;\n",
       "    }\n",
       "\n",
       "    .dataframe thead th {\n",
       "        text-align: right;\n",
       "    }\n",
       "</style>\n",
       "<table border=\"1\" class=\"dataframe\">\n",
       "  <thead>\n",
       "    <tr style=\"text-align: right;\">\n",
       "      <th></th>\n",
       "      <th>user_id</th>\n",
       "      <th>prediction</th>\n",
       "    </tr>\n",
       "  </thead>\n",
       "  <tbody>\n",
       "    <tr>\n",
       "      <th>0</th>\n",
       "      <td>850</td>\n",
       "      <td>260 1210 480 2028 589 1270 593 1580 110 2396 1...</td>\n",
       "    </tr>\n",
       "    <tr>\n",
       "      <th>1</th>\n",
       "      <td>2012</td>\n",
       "      <td>2858 2028 593 608 2762 110 2396 1617 527 2997 ...</td>\n",
       "    </tr>\n",
       "    <tr>\n",
       "      <th>2</th>\n",
       "      <td>1511</td>\n",
       "      <td>2858 260 480 589 1270 593 1580 608 2762 110 23...</td>\n",
       "    </tr>\n",
       "    <tr>\n",
       "      <th>3</th>\n",
       "      <td>5846</td>\n",
       "      <td>1196 1210 480 2028 589 2571 1270 1580 1198 276...</td>\n",
       "    </tr>\n",
       "    <tr>\n",
       "      <th>4</th>\n",
       "      <td>4344</td>\n",
       "      <td>593 2716 1 3578 2987 919 3175 924 1387 2355 10...</td>\n",
       "    </tr>\n",
       "    <tr>\n",
       "      <th>...</th>\n",
       "      <td>...</td>\n",
       "      <td>...</td>\n",
       "    </tr>\n",
       "    <tr>\n",
       "      <th>6032</th>\n",
       "      <td>421</td>\n",
       "      <td>2858 1196 260 480 2028 589 2571 1270 593 1580 ...</td>\n",
       "    </tr>\n",
       "    <tr>\n",
       "      <th>6033</th>\n",
       "      <td>4393</td>\n",
       "      <td>1196 260 480 2028 589 1270 593 1580 608 1198 2...</td>\n",
       "    </tr>\n",
       "    <tr>\n",
       "      <th>6034</th>\n",
       "      <td>3455</td>\n",
       "      <td>1196 260 1210 480 2028 589 2571 1270 593 1580 ...</td>\n",
       "    </tr>\n",
       "    <tr>\n",
       "      <th>6035</th>\n",
       "      <td>2714</td>\n",
       "      <td>1196 1210 480 2028 589 2571 1270 593 1198 2762...</td>\n",
       "    </tr>\n",
       "    <tr>\n",
       "      <th>6036</th>\n",
       "      <td>5297</td>\n",
       "      <td>2858 1196 260 1210 589 1270 1580 608 1198 110 ...</td>\n",
       "    </tr>\n",
       "  </tbody>\n",
       "</table>\n",
       "<p>6037 rows × 2 columns</p>\n",
       "</div>"
      ],
      "text/plain": [
       "      user_id                                         prediction\n",
       "0         850  260 1210 480 2028 589 1270 593 1580 110 2396 1...\n",
       "1        2012  2858 2028 593 608 2762 110 2396 1617 527 2997 ...\n",
       "2        1511  2858 260 480 589 1270 593 1580 608 2762 110 23...\n",
       "3        5846  1196 1210 480 2028 589 2571 1270 1580 1198 276...\n",
       "4        4344  593 2716 1 3578 2987 919 3175 924 1387 2355 10...\n",
       "...       ...                                                ...\n",
       "6032      421  2858 1196 260 480 2028 589 2571 1270 593 1580 ...\n",
       "6033     4393  1196 260 480 2028 589 1270 593 1580 608 1198 2...\n",
       "6034     3455  1196 260 1210 480 2028 589 2571 1270 593 1580 ...\n",
       "6035     2714  1196 1210 480 2028 589 2571 1270 593 1198 2762...\n",
       "6036     5297  2858 1196 260 1210 589 1270 1580 608 1198 110 ...\n",
       "\n",
       "[6037 rows x 2 columns]"
      ]
     },
     "execution_count": 6,
     "metadata": {},
     "output_type": "execute_result"
    }
   ],
   "source": [
    "test = pd.read_csv('/kaggle/input/rec-sys-challenge-task-course-2023/kaggle_baseline.csv')\n",
    "test"
   ]
  },
  {
   "cell_type": "code",
   "execution_count": 7,
   "id": "9fb033c5",
   "metadata": {
    "execution": {
     "iopub.execute_input": "2024-06-28T12:41:31.007861Z",
     "iopub.status.busy": "2024-06-28T12:41:31.007418Z",
     "iopub.status.idle": "2024-06-28T12:41:49.649065Z",
     "shell.execute_reply": "2024-06-28T12:41:49.647851Z"
    },
    "papermill": {
     "duration": 19.366174,
     "end_time": "2024-06-28T12:41:49.651948",
     "exception": false,
     "start_time": "2024-06-28T12:41:30.285774",
     "status": "completed"
    },
    "tags": []
   },
   "outputs": [
    {
     "name": "stdout",
     "output_type": "stream",
     "text": [
      "\u001b[1m4717/4717\u001b[0m \u001b[32m━━━━━━━━━━━━━━━━━━━━\u001b[0m\u001b[37m\u001b[0m \u001b[1m8s\u001b[0m 2ms/step\n"
     ]
    },
    {
     "name": "stderr",
     "output_type": "stream",
     "text": [
      "/tmp/ipykernel_18/1654746605.py:24: DeprecationWarning: DataFrameGroupBy.apply operated on the grouping columns. This behavior is deprecated, and in a future version of pandas the grouping columns will be excluded from the operation. Either pass `include_groups=False` to exclude the groupings or explicitly select the grouping columns after groupby to silence this warning.\n",
      "  submission = submission.groupby('user_id').apply(lambda x: x.nlargest(25, 'prediction')).reset_index(drop=True)\n"
     ]
    }
   ],
   "source": [
    "test['prediction'] = test['prediction'].apply(lambda x: x.split())\n",
    "\n",
    "test_user_indices = []\n",
    "test_movie_indices = []\n",
    "\n",
    "for index, row in test.iterrows():\n",
    "    user_index = user_id_to_index[row['user_id']]\n",
    "    for movie_id in row['prediction']:\n",
    "        movie_index = movie_id_to_index[int(movie_id)]\n",
    "        test_user_indices.append(user_index)\n",
    "        test_movie_indices.append(movie_index)\n",
    "\n",
    "test_user_indices = np.array(test_user_indices)\n",
    "test_movie_indices = np.array(test_movie_indices)\n",
    "\n",
    "predictions = model.predict([test_user_indices, test_movie_indices])\n",
    "\n",
    "submission = pd.DataFrame({\n",
    "    'user_id': test['user_id'].repeat(test['prediction'].apply(len)),\n",
    "    'movie_id': [int(movie_id) for sublist in test['prediction'] for movie_id in sublist],\n",
    "    'prediction': predictions.flatten()\n",
    "})\n",
    "\n",
    "submission = submission.groupby('user_id').apply(lambda x: x.nlargest(25, 'prediction')).reset_index(drop=True)\n",
    "submission = submission[['user_id', 'movie_id']].groupby('user_id').agg(lambda x: ' '.join(map(str, x))).reset_index()\n",
    "submission.columns = ['user_id', 'prediction']\n",
    "\n",
    "submission.to_csv('submission.csv', index=False)"
   ]
  }
 ],
 "metadata": {
  "kaggle": {
   "accelerator": "none",
   "dataSources": [
    {
     "databundleVersionId": 8690534,
     "sourceId": 80774,
     "sourceType": "competition"
    }
   ],
   "dockerImageVersionId": 30732,
   "isGpuEnabled": false,
   "isInternetEnabled": true,
   "language": "python",
   "sourceType": "notebook"
  },
  "kernelspec": {
   "display_name": "Python 3",
   "language": "python",
   "name": "python3"
  },
  "language_info": {
   "codemirror_mode": {
    "name": "ipython",
    "version": 3
   },
   "file_extension": ".py",
   "mimetype": "text/x-python",
   "name": "python",
   "nbconvert_exporter": "python",
   "pygments_lexer": "ipython3",
   "version": "3.10.13"
  },
  "papermill": {
   "default_parameters": {},
   "duration": 465.499411,
   "end_time": "2024-06-28T12:41:52.810299",
   "environment_variables": {},
   "exception": null,
   "input_path": "__notebook__.ipynb",
   "output_path": "__notebook__.ipynb",
   "parameters": {},
   "start_time": "2024-06-28T12:34:07.310888",
   "version": "2.5.0"
  }
 },
 "nbformat": 4,
 "nbformat_minor": 5
}
