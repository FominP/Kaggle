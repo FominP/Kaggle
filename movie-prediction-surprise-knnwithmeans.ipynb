{
 "cells": [
  {
   "cell_type": "markdown",
   "id": "c8b2b709",
   "metadata": {
    "papermill": {
     "duration": 0.006244,
     "end_time": "2024-06-27T23:17:57.614546",
     "exception": false,
     "start_time": "2024-06-27T23:17:57.608302",
     "status": "completed"
    },
    "tags": []
   },
   "source": [
    "### Description\n",
    "This is a movie prediction competition, we need to recommend movies for users based on their reviews and information about them"
   ]
  },
  {
   "cell_type": "code",
   "execution_count": 1,
   "id": "a5c74af8",
   "metadata": {
    "_cell_guid": "b1076dfc-b9ad-4769-8c92-a6c4dae69d19",
    "_uuid": "8f2839f25d086af736a60e9eeb907d3b93b6e0e5",
    "execution": {
     "iopub.execute_input": "2024-06-27T23:17:57.627847Z",
     "iopub.status.busy": "2024-06-27T23:17:57.627414Z",
     "iopub.status.idle": "2024-06-27T23:17:58.571304Z",
     "shell.execute_reply": "2024-06-27T23:17:58.570159Z"
    },
    "papermill": {
     "duration": 0.954513,
     "end_time": "2024-06-27T23:17:58.574937",
     "exception": false,
     "start_time": "2024-06-27T23:17:57.620424",
     "status": "completed"
    },
    "tags": []
   },
   "outputs": [
    {
     "name": "stdout",
     "output_type": "stream",
     "text": [
      "/kaggle/input/rec-sys-challenge-task-course-2023/train.csv\n",
      "/kaggle/input/rec-sys-challenge-task-course-2023/kaggle_baseline.csv\n"
     ]
    }
   ],
   "source": [
    "# This Python 3 environment comes with many helpful analytics libraries installed\n",
    "# It is defined by the kaggle/python Docker image: https://github.com/kaggle/docker-python\n",
    "# For example, here's several helpful packages to load\n",
    "\n",
    "import numpy as np # linear algebra\n",
    "import pandas as pd # data processing, CSV file I/O (e.g. pd.read_csv)\n",
    "\n",
    "# Input data files are available in the read-only \"../input/\" directory\n",
    "# For example, running this (by clicking run or pressing Shift+Enter) will list all files under the input directory\n",
    "\n",
    "import os\n",
    "for dirname, _, filenames in os.walk('/kaggle/input'):\n",
    "    for filename in filenames:\n",
    "        print(os.path.join(dirname, filename))\n",
    "\n",
    "# You can write up to 20GB to the current directory (/kaggle/working/) that gets preserved as output when you create a version using \"Save & Run All\" \n",
    "# You can also write temporary files to /kaggle/temp/, but they won't be saved outside of the current session"
   ]
  },
  {
   "cell_type": "markdown",
   "id": "dee426ed",
   "metadata": {
    "papermill": {
     "duration": 0.004382,
     "end_time": "2024-06-27T23:17:58.584415",
     "exception": false,
     "start_time": "2024-06-27T23:17:58.580033",
     "status": "completed"
    },
    "tags": []
   },
   "source": [
    "### Load data and split into training and test dataset"
   ]
  },
  {
   "cell_type": "code",
   "execution_count": 2,
   "id": "5f2a8af0",
   "metadata": {
    "execution": {
     "iopub.execute_input": "2024-06-27T23:17:58.595730Z",
     "iopub.status.busy": "2024-06-27T23:17:58.595141Z",
     "iopub.status.idle": "2024-06-27T23:18:00.148567Z",
     "shell.execute_reply": "2024-06-27T23:18:00.147452Z"
    },
    "papermill": {
     "duration": 1.562315,
     "end_time": "2024-06-27T23:18:00.151340",
     "exception": false,
     "start_time": "2024-06-27T23:17:58.589025",
     "status": "completed"
    },
    "tags": []
   },
   "outputs": [
    {
     "data": {
      "text/html": [
       "<div>\n",
       "<style scoped>\n",
       "    .dataframe tbody tr th:only-of-type {\n",
       "        vertical-align: middle;\n",
       "    }\n",
       "\n",
       "    .dataframe tbody tr th {\n",
       "        vertical-align: top;\n",
       "    }\n",
       "\n",
       "    .dataframe thead th {\n",
       "        text-align: right;\n",
       "    }\n",
       "</style>\n",
       "<table border=\"1\" class=\"dataframe\">\n",
       "  <thead>\n",
       "    <tr style=\"text-align: right;\">\n",
       "      <th></th>\n",
       "      <th>user_id</th>\n",
       "      <th>title</th>\n",
       "      <th>movie_id</th>\n",
       "      <th>rating</th>\n",
       "      <th>release_date</th>\n",
       "      <th>sex</th>\n",
       "      <th>age</th>\n",
       "    </tr>\n",
       "  </thead>\n",
       "  <tbody>\n",
       "    <tr>\n",
       "      <th>0</th>\n",
       "      <td>2592</td>\n",
       "      <td>Top Gun (1986)</td>\n",
       "      <td>1101</td>\n",
       "      <td>4</td>\n",
       "      <td>Action|Romance</td>\n",
       "      <td>50</td>\n",
       "      <td>M</td>\n",
       "    </tr>\n",
       "    <tr>\n",
       "      <th>1</th>\n",
       "      <td>4318</td>\n",
       "      <td>12 Angry Men (1957)</td>\n",
       "      <td>1203</td>\n",
       "      <td>4</td>\n",
       "      <td>Drama</td>\n",
       "      <td>25</td>\n",
       "      <td>M</td>\n",
       "    </tr>\n",
       "    <tr>\n",
       "      <th>2</th>\n",
       "      <td>2756</td>\n",
       "      <td>Robocop 2 (1990)</td>\n",
       "      <td>2986</td>\n",
       "      <td>2</td>\n",
       "      <td>Action|Crime|Sci-Fi</td>\n",
       "      <td>18</td>\n",
       "      <td>M</td>\n",
       "    </tr>\n",
       "    <tr>\n",
       "      <th>3</th>\n",
       "      <td>1706</td>\n",
       "      <td>Modern Times (1936)</td>\n",
       "      <td>3462</td>\n",
       "      <td>5</td>\n",
       "      <td>Comedy</td>\n",
       "      <td>25</td>\n",
       "      <td>M</td>\n",
       "    </tr>\n",
       "    <tr>\n",
       "      <th>4</th>\n",
       "      <td>4813</td>\n",
       "      <td>Milk Money (1994)</td>\n",
       "      <td>276</td>\n",
       "      <td>3</td>\n",
       "      <td>Comedy|Romance</td>\n",
       "      <td>35</td>\n",
       "      <td>F</td>\n",
       "    </tr>\n",
       "  </tbody>\n",
       "</table>\n",
       "</div>"
      ],
      "text/plain": [
       "   user_id                title  movie_id  rating         release_date  sex  \\\n",
       "0     2592       Top Gun (1986)      1101       4       Action|Romance   50   \n",
       "1     4318  12 Angry Men (1957)      1203       4                Drama   25   \n",
       "2     2756     Robocop 2 (1990)      2986       2  Action|Crime|Sci-Fi   18   \n",
       "3     1706  Modern Times (1936)      3462       5               Comedy   25   \n",
       "4     4813    Milk Money (1994)       276       3       Comedy|Romance   35   \n",
       "\n",
       "  age  \n",
       "0   M  \n",
       "1   M  \n",
       "2   M  \n",
       "3   M  \n",
       "4   F  "
      ]
     },
     "execution_count": 2,
     "metadata": {},
     "output_type": "execute_result"
    }
   ],
   "source": [
    "df = pd.read_csv('/kaggle/input/rec-sys-challenge-task-course-2023/train.csv')\n",
    "df.head()"
   ]
  },
  {
   "cell_type": "code",
   "execution_count": 3,
   "id": "ff341480",
   "metadata": {
    "execution": {
     "iopub.execute_input": "2024-06-27T23:18:00.163175Z",
     "iopub.status.busy": "2024-06-27T23:18:00.162796Z",
     "iopub.status.idle": "2024-06-27T23:18:00.169011Z",
     "shell.execute_reply": "2024-06-27T23:18:00.167770Z"
    },
    "papermill": {
     "duration": 0.015314,
     "end_time": "2024-06-27T23:18:00.171737",
     "exception": false,
     "start_time": "2024-06-27T23:18:00.156423",
     "status": "completed"
    },
    "tags": []
   },
   "outputs": [
    {
     "name": "stdout",
     "output_type": "stream",
     "text": [
      "Index(['user_id', 'title', 'movie_id', 'rating', 'release_date', 'sex', 'age'], dtype='object')\n"
     ]
    }
   ],
   "source": [
    "print(df.columns)"
   ]
  },
  {
   "cell_type": "code",
   "execution_count": 4,
   "id": "d5b19d7a",
   "metadata": {
    "execution": {
     "iopub.execute_input": "2024-06-27T23:18:00.183844Z",
     "iopub.status.busy": "2024-06-27T23:18:00.183441Z",
     "iopub.status.idle": "2024-06-27T23:18:00.192863Z",
     "shell.execute_reply": "2024-06-27T23:18:00.191559Z"
    },
    "papermill": {
     "duration": 0.019219,
     "end_time": "2024-06-27T23:18:00.196177",
     "exception": false,
     "start_time": "2024-06-27T23:18:00.176958",
     "status": "completed"
    },
    "tags": []
   },
   "outputs": [
    {
     "name": "stdout",
     "output_type": "stream",
     "text": [
      "Maximal rating is  5\n",
      "Minimal rating is  1\n"
     ]
    }
   ],
   "source": [
    "print('Maximal rating is ', df['rating'].max())\n",
    "print('Minimal rating is ', df['rating'].min())"
   ]
  },
  {
   "cell_type": "markdown",
   "id": "18e54614",
   "metadata": {
    "papermill": {
     "duration": 0.004936,
     "end_time": "2024-06-27T23:18:00.206999",
     "exception": false,
     "start_time": "2024-06-27T23:18:00.202063",
     "status": "completed"
    },
    "tags": []
   },
   "source": [
    "As KNNWithMeans algorithm from the Surprise library only considers user-item interactions, we use only columns that reflect these interactions (i.e., user_id, movie_id, and rating)."
   ]
  },
  {
   "cell_type": "code",
   "execution_count": 5,
   "id": "9544bce9",
   "metadata": {
    "execution": {
     "iopub.execute_input": "2024-06-27T23:18:00.219063Z",
     "iopub.status.busy": "2024-06-27T23:18:00.218656Z",
     "iopub.status.idle": "2024-06-27T23:18:03.299498Z",
     "shell.execute_reply": "2024-06-27T23:18:03.298208Z"
    },
    "papermill": {
     "duration": 3.090177,
     "end_time": "2024-06-27T23:18:03.302375",
     "exception": false,
     "start_time": "2024-06-27T23:18:00.212198",
     "status": "completed"
    },
    "tags": []
   },
   "outputs": [],
   "source": [
    "from surprise import Dataset, Reader\n",
    "from surprise.model_selection import train_test_split\n",
    "\n",
    "reader = Reader(rating_scale=(1, 5))\n",
    "data = Dataset.load_from_df(df[['user_id', 'movie_id', 'rating']], reader)\n",
    "trainset, testset = train_test_split(data, test_size=0.25)"
   ]
  },
  {
   "cell_type": "markdown",
   "id": "440b467c",
   "metadata": {
    "papermill": {
     "duration": 0.005522,
     "end_time": "2024-06-27T23:18:03.313437",
     "exception": false,
     "start_time": "2024-06-27T23:18:03.307915",
     "status": "completed"
    },
    "tags": []
   },
   "source": [
    "### Fit model with train dataset"
   ]
  },
  {
   "cell_type": "code",
   "execution_count": 6,
   "id": "5c500011",
   "metadata": {
    "execution": {
     "iopub.execute_input": "2024-06-27T23:18:03.326140Z",
     "iopub.status.busy": "2024-06-27T23:18:03.325547Z",
     "iopub.status.idle": "2024-06-27T23:19:50.102836Z",
     "shell.execute_reply": "2024-06-27T23:19:50.101336Z"
    },
    "papermill": {
     "duration": 106.792089,
     "end_time": "2024-06-27T23:19:50.111042",
     "exception": false,
     "start_time": "2024-06-27T23:18:03.318953",
     "status": "completed"
    },
    "tags": []
   },
   "outputs": [
    {
     "name": "stdout",
     "output_type": "stream",
     "text": [
      "Computing the cosine similarity matrix...\n",
      "Done computing similarity matrix.\n",
      "RMSE: 0.9027\n",
      "0.9026608320438605\n"
     ]
    }
   ],
   "source": [
    "from surprise import KNNWithMeans\n",
    "from surprise.model_selection import train_test_split\n",
    "from surprise import accuracy\n",
    "\n",
    "# Use KNNWithMeans algorithm\n",
    "sim_options = {\n",
    "    'name': 'cosine',\n",
    "    'user_based': False  # Compute similarities between items\n",
    "}\n",
    "algo = KNNWithMeans(sim_options=sim_options)\n",
    "algo.fit(trainset)\n",
    "\n",
    "predictions = algo.test(testset)\n",
    "\n",
    "rmse = accuracy.rmse(predictions)\n",
    "print(rmse)"
   ]
  },
  {
   "cell_type": "markdown",
   "id": "3c697555",
   "metadata": {
    "papermill": {
     "duration": 0.005175,
     "end_time": "2024-06-27T23:19:50.121970",
     "exception": false,
     "start_time": "2024-06-27T23:19:50.116795",
     "status": "completed"
    },
    "tags": []
   },
   "source": [
    "### Generate predictions for the test dataset and create a submission file"
   ]
  },
  {
   "cell_type": "code",
   "execution_count": 7,
   "id": "f1b24fa9",
   "metadata": {
    "execution": {
     "iopub.execute_input": "2024-06-27T23:19:50.134981Z",
     "iopub.status.busy": "2024-06-27T23:19:50.134532Z",
     "iopub.status.idle": "2024-06-27T23:19:53.228721Z",
     "shell.execute_reply": "2024-06-27T23:19:53.227541Z"
    },
    "papermill": {
     "duration": 3.104515,
     "end_time": "2024-06-27T23:19:53.232012",
     "exception": false,
     "start_time": "2024-06-27T23:19:50.127497",
     "status": "completed"
    },
    "tags": []
   },
   "outputs": [],
   "source": [
    "test = pd.read_csv('/kaggle/input/rec-sys-challenge-task-course-2023/kaggle_baseline.csv')\n",
    "\n",
    "# Function to get top N recommendations for each user\n",
    "def get_top_n_recommendations(algo, testset, n=25):\n",
    "    predictions = algo.test(testset)\n",
    "    top_n = {}\n",
    "    for uid, iid, true_r, est, _ in predictions:\n",
    "        if uid not in top_n:\n",
    "            top_n[uid] = []\n",
    "        top_n[uid].append((iid, est))\n",
    "    \n",
    "    for uid, user_ratings in top_n.items():\n",
    "        user_ratings.sort(key=lambda x: x[1], reverse=True)\n",
    "        top_n[uid] = [iid for iid, _ in user_ratings[:n]]\n",
    "    \n",
    "    return top_n\n",
    "\n",
    "testset = [(row['user_id'], movie_id, 4) for index, row in test.iterrows() for movie_id in row['prediction'].split()]\n",
    "top_n_recommendations = get_top_n_recommendations(algo, testset, n=25)\n",
    "\n",
    "# Create submission file\n",
    "with open('submission.csv', 'w', encoding='UTF8') as f:\n",
    "    f.write('user_id,prediction\\n')\n",
    "    for user_id, recommendations in top_n_recommendations.items():\n",
    "        f.write(f\"{user_id},{' '.join(map(str, recommendations))}\\n\")"
   ]
  }
 ],
 "metadata": {
  "kaggle": {
   "accelerator": "none",
   "dataSources": [
    {
     "databundleVersionId": 8690534,
     "sourceId": 80774,
     "sourceType": "competition"
    }
   ],
   "dockerImageVersionId": 30732,
   "isGpuEnabled": false,
   "isInternetEnabled": false,
   "language": "python",
   "sourceType": "notebook"
  },
  "kernelspec": {
   "display_name": "Python 3",
   "language": "python",
   "name": "python3"
  },
  "language_info": {
   "codemirror_mode": {
    "name": "ipython",
    "version": 3
   },
   "file_extension": ".py",
   "mimetype": "text/x-python",
   "name": "python",
   "nbconvert_exporter": "python",
   "pygments_lexer": "ipython3",
   "version": "3.10.13"
  },
  "papermill": {
   "default_parameters": {},
   "duration": 120.238094,
   "end_time": "2024-06-27T23:19:54.363877",
   "environment_variables": {},
   "exception": null,
   "input_path": "__notebook__.ipynb",
   "output_path": "__notebook__.ipynb",
   "parameters": {},
   "start_time": "2024-06-27T23:17:54.125783",
   "version": "2.5.0"
  }
 },
 "nbformat": 4,
 "nbformat_minor": 5
}
