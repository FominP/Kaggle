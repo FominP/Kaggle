{
 "cells": [
  {
   "cell_type": "markdown",
   "id": "30039f84",
   "metadata": {
    "papermill": {
     "duration": 0.005447,
     "end_time": "2024-07-06T18:21:58.437490",
     "exception": false,
     "start_time": "2024-07-06T18:21:58.432043",
     "status": "completed"
    },
    "tags": []
   },
   "source": [
    "# Description\n",
    "## Pandemic Tweet Challenge\n",
    "The Google Developers Students Club of IIT Indore brings the Pandemic Tweet Challenge, based on Natural Language Processing to identify the nature of the Covid Tweet from one of these five categories- extremely positive, positive, neutral, negative, extremely negative.\n",
    "\n",
    "### Problem Statement:\n",
    "Your job is to identify the nature of the covid tweet from a given tweet and assign it a class label - extremely positive, positive, neutral, negative, extremely negative.\n",
    "\n",
    "You are provided a train dataset, which contains the tweets and their corresponding labeled sentiments. The tweets have been pulled from Twitter. The names and usernames have been given codes to avoid any privacy concerns. Your job is to perform Text Classification on the provided data.\n",
    "\n",
    "### Dataset:\n",
    "You are provided two splits of data - train and test. Navigate to the Data Section for more details regarding these.\n",
    "\n",
    "### Submission:\n",
    "There is a sample submission CSV attached. This file has two columns. The first column contains Original tweets. In the second column, you have to predict the sentiment class label (extremely positive, positive, neutral, negative, extremely negative) for each of the tweets in the first column. You have to submit your file in this format only.\n",
    "\n",
    "Explaining your approach in your submission notebook is mandatory. The code submitted must be able to replicate your final submission file."
   ]
  },
  {
   "cell_type": "code",
   "execution_count": 1,
   "id": "237eed31",
   "metadata": {
    "_cell_guid": "b1076dfc-b9ad-4769-8c92-a6c4dae69d19",
    "_uuid": "8f2839f25d086af736a60e9eeb907d3b93b6e0e5",
    "execution": {
     "iopub.execute_input": "2024-07-06T18:21:58.449120Z",
     "iopub.status.busy": "2024-07-06T18:21:58.448569Z",
     "iopub.status.idle": "2024-07-06T18:21:59.139268Z",
     "shell.execute_reply": "2024-07-06T18:21:59.138434Z"
    },
    "papermill": {
     "duration": 0.698727,
     "end_time": "2024-07-06T18:21:59.141397",
     "exception": false,
     "start_time": "2024-07-06T18:21:58.442670",
     "status": "completed"
    },
    "tags": []
   },
   "outputs": [
    {
     "name": "stdout",
     "output_type": "stream",
     "text": [
      "/kaggle/input/pandemic-tweet-challenge/submission_.csv\n",
      "/kaggle/input/pandemic-tweet-challenge/Pandemic_NLP_test_.csv\n",
      "/kaggle/input/pandemic-tweet-challenge/Pandemic_NLP_train.csv\n"
     ]
    }
   ],
   "source": [
    "# This Python 3 environment comes with many helpful analytics libraries installed\n",
    "# It is defined by the kaggle/python Docker image: https://github.com/kaggle/docker-python\n",
    "# For example, here's several helpful packages to load\n",
    "\n",
    "import numpy as np # linear algebra\n",
    "import pandas as pd # data processing, CSV file I/O (e.g. pd.read_csv)\n",
    "\n",
    "# Input data files are available in the read-only \"../input/\" directory\n",
    "# For example, running this (by clicking run or pressing Shift+Enter) will list all files under the input directory\n",
    "\n",
    "import os\n",
    "for dirname, _, filenames in os.walk('/kaggle/input'):\n",
    "    for filename in filenames:\n",
    "        print(os.path.join(dirname, filename))\n",
    "\n",
    "# You can write up to 20GB to the current directory (/kaggle/working/) that gets preserved as output when you create a version using \"Save & Run All\" \n",
    "# You can also write temporary files to /kaggle/temp/, but they won't be saved outside of the current session"
   ]
  },
  {
   "cell_type": "markdown",
   "id": "a71ee499",
   "metadata": {
    "papermill": {
     "duration": 0.004983,
     "end_time": "2024-07-06T18:21:59.151534",
     "exception": false,
     "start_time": "2024-07-06T18:21:59.146551",
     "status": "completed"
    },
    "tags": []
   },
   "source": [
    "# Loading, EDA and preprocessing"
   ]
  },
  {
   "cell_type": "code",
   "execution_count": 2,
   "id": "1d646c72",
   "metadata": {
    "execution": {
     "iopub.execute_input": "2024-07-06T18:21:59.162698Z",
     "iopub.status.busy": "2024-07-06T18:21:59.162291Z",
     "iopub.status.idle": "2024-07-06T18:21:59.427637Z",
     "shell.execute_reply": "2024-07-06T18:21:59.426767Z"
    },
    "papermill": {
     "duration": 0.273384,
     "end_time": "2024-07-06T18:21:59.429860",
     "exception": false,
     "start_time": "2024-07-06T18:21:59.156476",
     "status": "completed"
    },
    "tags": []
   },
   "outputs": [
    {
     "name": "stdout",
     "output_type": "stream",
     "text": [
      "41157\n"
     ]
    },
    {
     "data": {
      "text/html": [
       "<div>\n",
       "<style scoped>\n",
       "    .dataframe tbody tr th:only-of-type {\n",
       "        vertical-align: middle;\n",
       "    }\n",
       "\n",
       "    .dataframe tbody tr th {\n",
       "        vertical-align: top;\n",
       "    }\n",
       "\n",
       "    .dataframe thead th {\n",
       "        text-align: right;\n",
       "    }\n",
       "</style>\n",
       "<table border=\"1\" class=\"dataframe\">\n",
       "  <thead>\n",
       "    <tr style=\"text-align: right;\">\n",
       "      <th></th>\n",
       "      <th>UserName</th>\n",
       "      <th>ScreenName</th>\n",
       "      <th>Location</th>\n",
       "      <th>TweetAt</th>\n",
       "      <th>OriginalTweet</th>\n",
       "      <th>Sentiment</th>\n",
       "    </tr>\n",
       "  </thead>\n",
       "  <tbody>\n",
       "    <tr>\n",
       "      <th>0</th>\n",
       "      <td>3799</td>\n",
       "      <td>48751</td>\n",
       "      <td>London</td>\n",
       "      <td>16-03-2020</td>\n",
       "      <td>@MeNyrbie @Phil_Gahan @Chrisitv https://t.co/i...</td>\n",
       "      <td>Neutral</td>\n",
       "    </tr>\n",
       "    <tr>\n",
       "      <th>1</th>\n",
       "      <td>3800</td>\n",
       "      <td>48752</td>\n",
       "      <td>UK</td>\n",
       "      <td>16-03-2020</td>\n",
       "      <td>advice Talk to your neighbours family to excha...</td>\n",
       "      <td>Positive</td>\n",
       "    </tr>\n",
       "    <tr>\n",
       "      <th>2</th>\n",
       "      <td>3801</td>\n",
       "      <td>48753</td>\n",
       "      <td>Vagabonds</td>\n",
       "      <td>16-03-2020</td>\n",
       "      <td>Coronavirus Australia: Woolworths to give elde...</td>\n",
       "      <td>Positive</td>\n",
       "    </tr>\n",
       "    <tr>\n",
       "      <th>3</th>\n",
       "      <td>3802</td>\n",
       "      <td>48754</td>\n",
       "      <td>NaN</td>\n",
       "      <td>16-03-2020</td>\n",
       "      <td>My food stock is not the only one which is emp...</td>\n",
       "      <td>Positive</td>\n",
       "    </tr>\n",
       "    <tr>\n",
       "      <th>4</th>\n",
       "      <td>3803</td>\n",
       "      <td>48755</td>\n",
       "      <td>NaN</td>\n",
       "      <td>16-03-2020</td>\n",
       "      <td>Me, ready to go at supermarket during the #COV...</td>\n",
       "      <td>Extremely Negative</td>\n",
       "    </tr>\n",
       "  </tbody>\n",
       "</table>\n",
       "</div>"
      ],
      "text/plain": [
       "   UserName  ScreenName   Location     TweetAt  \\\n",
       "0      3799       48751     London  16-03-2020   \n",
       "1      3800       48752         UK  16-03-2020   \n",
       "2      3801       48753  Vagabonds  16-03-2020   \n",
       "3      3802       48754        NaN  16-03-2020   \n",
       "4      3803       48755        NaN  16-03-2020   \n",
       "\n",
       "                                       OriginalTweet           Sentiment  \n",
       "0  @MeNyrbie @Phil_Gahan @Chrisitv https://t.co/i...             Neutral  \n",
       "1  advice Talk to your neighbours family to excha...            Positive  \n",
       "2  Coronavirus Australia: Woolworths to give elde...            Positive  \n",
       "3  My food stock is not the only one which is emp...            Positive  \n",
       "4  Me, ready to go at supermarket during the #COV...  Extremely Negative  "
      ]
     },
     "execution_count": 2,
     "metadata": {},
     "output_type": "execute_result"
    }
   ],
   "source": [
    "train_df = pd.read_csv(\"/kaggle/input/pandemic-tweet-challenge/Pandemic_NLP_train.csv\", encoding=\"ISO-8859-1\")\n",
    "print(train_df.shape[0])\n",
    "train_df.head()"
   ]
  },
  {
   "cell_type": "code",
   "execution_count": 3,
   "id": "daf95a0c",
   "metadata": {
    "execution": {
     "iopub.execute_input": "2024-07-06T18:21:59.442022Z",
     "iopub.status.busy": "2024-07-06T18:21:59.441738Z",
     "iopub.status.idle": "2024-07-06T18:21:59.451748Z",
     "shell.execute_reply": "2024-07-06T18:21:59.450906Z"
    },
    "papermill": {
     "duration": 0.018299,
     "end_time": "2024-07-06T18:21:59.453671",
     "exception": false,
     "start_time": "2024-07-06T18:21:59.435372",
     "status": "completed"
    },
    "tags": []
   },
   "outputs": [
    {
     "data": {
      "text/plain": [
       "array(['Neutral', 'Positive', 'Extremely Negative', 'Negative',\n",
       "       'Extremely Positive'], dtype=object)"
      ]
     },
     "execution_count": 3,
     "metadata": {},
     "output_type": "execute_result"
    }
   ],
   "source": [
    "train_df['Sentiment'].unique()"
   ]
  },
  {
   "cell_type": "code",
   "execution_count": 4,
   "id": "a2fd09ff",
   "metadata": {
    "execution": {
     "iopub.execute_input": "2024-07-06T18:21:59.465672Z",
     "iopub.status.busy": "2024-07-06T18:21:59.465366Z",
     "iopub.status.idle": "2024-07-06T18:21:59.499021Z",
     "shell.execute_reply": "2024-07-06T18:21:59.498021Z"
    },
    "papermill": {
     "duration": 0.041795,
     "end_time": "2024-07-06T18:21:59.500939",
     "exception": false,
     "start_time": "2024-07-06T18:21:59.459144",
     "status": "completed"
    },
    "tags": []
   },
   "outputs": [
    {
     "name": "stdout",
     "output_type": "stream",
     "text": [
      "<class 'pandas.core.frame.DataFrame'>\n",
      "RangeIndex: 41157 entries, 0 to 41156\n",
      "Data columns (total 6 columns):\n",
      " #   Column         Non-Null Count  Dtype \n",
      "---  ------         --------------  ----- \n",
      " 0   UserName       41157 non-null  int64 \n",
      " 1   ScreenName     41157 non-null  int64 \n",
      " 2   Location       32567 non-null  object\n",
      " 3   TweetAt        41157 non-null  object\n",
      " 4   OriginalTweet  41157 non-null  object\n",
      " 5   Sentiment      41157 non-null  object\n",
      "dtypes: int64(2), object(4)\n",
      "memory usage: 1.9+ MB\n"
     ]
    }
   ],
   "source": [
    "train_df.info()"
   ]
  },
  {
   "cell_type": "code",
   "execution_count": 5,
   "id": "52589ffd",
   "metadata": {
    "execution": {
     "iopub.execute_input": "2024-07-06T18:21:59.513055Z",
     "iopub.status.busy": "2024-07-06T18:21:59.512800Z",
     "iopub.status.idle": "2024-07-06T18:21:59.521621Z",
     "shell.execute_reply": "2024-07-06T18:21:59.520978Z"
    },
    "papermill": {
     "duration": 0.016958,
     "end_time": "2024-07-06T18:21:59.523452",
     "exception": false,
     "start_time": "2024-07-06T18:21:59.506494",
     "status": "completed"
    },
    "tags": []
   },
   "outputs": [],
   "source": [
    "train_df['Location'] = train_df['Location'].fillna('unknown')"
   ]
  },
  {
   "cell_type": "code",
   "execution_count": 6,
   "id": "257033fb",
   "metadata": {
    "execution": {
     "iopub.execute_input": "2024-07-06T18:21:59.535391Z",
     "iopub.status.busy": "2024-07-06T18:21:59.535126Z",
     "iopub.status.idle": "2024-07-06T18:21:59.571745Z",
     "shell.execute_reply": "2024-07-06T18:21:59.570933Z"
    },
    "papermill": {
     "duration": 0.044726,
     "end_time": "2024-07-06T18:21:59.573665",
     "exception": false,
     "start_time": "2024-07-06T18:21:59.528939",
     "status": "completed"
    },
    "tags": []
   },
   "outputs": [
    {
     "name": "stdout",
     "output_type": "stream",
     "text": [
      "3798\n"
     ]
    },
    {
     "data": {
      "text/html": [
       "<div>\n",
       "<style scoped>\n",
       "    .dataframe tbody tr th:only-of-type {\n",
       "        vertical-align: middle;\n",
       "    }\n",
       "\n",
       "    .dataframe tbody tr th {\n",
       "        vertical-align: top;\n",
       "    }\n",
       "\n",
       "    .dataframe thead th {\n",
       "        text-align: right;\n",
       "    }\n",
       "</style>\n",
       "<table border=\"1\" class=\"dataframe\">\n",
       "  <thead>\n",
       "    <tr style=\"text-align: right;\">\n",
       "      <th></th>\n",
       "      <th>UserName</th>\n",
       "      <th>ScreenName</th>\n",
       "      <th>Location</th>\n",
       "      <th>TweetAt</th>\n",
       "      <th>OriginalTweet</th>\n",
       "    </tr>\n",
       "  </thead>\n",
       "  <tbody>\n",
       "    <tr>\n",
       "      <th>0</th>\n",
       "      <td>1956</td>\n",
       "      <td>46908</td>\n",
       "      <td>0.9921875</td>\n",
       "      <td>13-03-2020</td>\n",
       "      <td>COVID-19 might be presenting online shopping p...</td>\n",
       "    </tr>\n",
       "    <tr>\n",
       "      <th>1</th>\n",
       "      <td>711</td>\n",
       "      <td>45663</td>\n",
       "      <td>210</td>\n",
       "      <td>12/3/2020</td>\n",
       "      <td>My right wing coo coo father in law was tellin...</td>\n",
       "    </tr>\n",
       "    <tr>\n",
       "      <th>2</th>\n",
       "      <td>1346</td>\n",
       "      <td>46298</td>\n",
       "      <td>310</td>\n",
       "      <td>13-03-2020</td>\n",
       "      <td>I cannot decide if I am the smartest person in...</td>\n",
       "    </tr>\n",
       "    <tr>\n",
       "      <th>3</th>\n",
       "      <td>2204</td>\n",
       "      <td>47156</td>\n",
       "      <td>505</td>\n",
       "      <td>14-03-2020</td>\n",
       "      <td>Why are people stock piling   what s wrong wit...</td>\n",
       "    </tr>\n",
       "    <tr>\n",
       "      <th>4</th>\n",
       "      <td>1265</td>\n",
       "      <td>46217</td>\n",
       "      <td>21113</td>\n",
       "      <td>13-03-2020</td>\n",
       "      <td>Show me where the eggs are. That's all I need ...</td>\n",
       "    </tr>\n",
       "  </tbody>\n",
       "</table>\n",
       "</div>"
      ],
      "text/plain": [
       "   UserName  ScreenName   Location     TweetAt  \\\n",
       "0      1956       46908  0.9921875  13-03-2020   \n",
       "1       711       45663        210   12/3/2020   \n",
       "2      1346       46298        310  13-03-2020   \n",
       "3      2204       47156        505  14-03-2020   \n",
       "4      1265       46217      21113  13-03-2020   \n",
       "\n",
       "                                       OriginalTweet  \n",
       "0  COVID-19 might be presenting online shopping p...  \n",
       "1  My right wing coo coo father in law was tellin...  \n",
       "2  I cannot decide if I am the smartest person in...  \n",
       "3  Why are people stock piling   what s wrong wit...  \n",
       "4  Show me where the eggs are. That's all I need ...  "
      ]
     },
     "execution_count": 6,
     "metadata": {},
     "output_type": "execute_result"
    }
   ],
   "source": [
    "test_df = pd.read_csv(\"/kaggle/input/pandemic-tweet-challenge/Pandemic_NLP_test_.csv\")\n",
    "print(test_df.shape[0])\n",
    "test_df.head()"
   ]
  },
  {
   "cell_type": "code",
   "execution_count": 7,
   "id": "cc5260ef",
   "metadata": {
    "execution": {
     "iopub.execute_input": "2024-07-06T18:21:59.586493Z",
     "iopub.status.busy": "2024-07-06T18:21:59.586226Z",
     "iopub.status.idle": "2024-07-06T18:21:59.596062Z",
     "shell.execute_reply": "2024-07-06T18:21:59.595176Z"
    },
    "papermill": {
     "duration": 0.018295,
     "end_time": "2024-07-06T18:21:59.597936",
     "exception": false,
     "start_time": "2024-07-06T18:21:59.579641",
     "status": "completed"
    },
    "tags": []
   },
   "outputs": [
    {
     "name": "stdout",
     "output_type": "stream",
     "text": [
      "<class 'pandas.core.frame.DataFrame'>\n",
      "RangeIndex: 3798 entries, 0 to 3797\n",
      "Data columns (total 5 columns):\n",
      " #   Column         Non-Null Count  Dtype \n",
      "---  ------         --------------  ----- \n",
      " 0   UserName       3798 non-null   int64 \n",
      " 1   ScreenName     3798 non-null   int64 \n",
      " 2   Location       2964 non-null   object\n",
      " 3   TweetAt        3798 non-null   object\n",
      " 4   OriginalTweet  3798 non-null   object\n",
      "dtypes: int64(2), object(3)\n",
      "memory usage: 148.5+ KB\n"
     ]
    }
   ],
   "source": [
    "test_df.info()"
   ]
  },
  {
   "cell_type": "code",
   "execution_count": 8,
   "id": "ccb4847a",
   "metadata": {
    "execution": {
     "iopub.execute_input": "2024-07-06T18:21:59.610908Z",
     "iopub.status.busy": "2024-07-06T18:21:59.610673Z",
     "iopub.status.idle": "2024-07-06T18:21:59.615442Z",
     "shell.execute_reply": "2024-07-06T18:21:59.614630Z"
    },
    "papermill": {
     "duration": 0.013354,
     "end_time": "2024-07-06T18:21:59.617350",
     "exception": false,
     "start_time": "2024-07-06T18:21:59.603996",
     "status": "completed"
    },
    "tags": []
   },
   "outputs": [],
   "source": [
    "test_df['Location'] = test_df['Location'].fillna('unknown')"
   ]
  },
  {
   "cell_type": "code",
   "execution_count": 9,
   "id": "d003dcbe",
   "metadata": {
    "execution": {
     "iopub.execute_input": "2024-07-06T18:21:59.630048Z",
     "iopub.status.busy": "2024-07-06T18:21:59.629817Z",
     "iopub.status.idle": "2024-07-06T18:21:59.658537Z",
     "shell.execute_reply": "2024-07-06T18:21:59.657706Z"
    },
    "papermill": {
     "duration": 0.037242,
     "end_time": "2024-07-06T18:21:59.660482",
     "exception": false,
     "start_time": "2024-07-06T18:21:59.623240",
     "status": "completed"
    },
    "tags": []
   },
   "outputs": [
    {
     "data": {
      "text/html": [
       "<div>\n",
       "<style scoped>\n",
       "    .dataframe tbody tr th:only-of-type {\n",
       "        vertical-align: middle;\n",
       "    }\n",
       "\n",
       "    .dataframe tbody tr th {\n",
       "        vertical-align: top;\n",
       "    }\n",
       "\n",
       "    .dataframe thead th {\n",
       "        text-align: right;\n",
       "    }\n",
       "</style>\n",
       "<table border=\"1\" class=\"dataframe\">\n",
       "  <thead>\n",
       "    <tr style=\"text-align: right;\">\n",
       "      <th></th>\n",
       "      <th>OriginalTweet</th>\n",
       "      <th>Sentiment</th>\n",
       "    </tr>\n",
       "  </thead>\n",
       "  <tbody>\n",
       "    <tr>\n",
       "      <th>0</th>\n",
       "      <td>TRENDING: New Yorkers encounter empty supermar...</td>\n",
       "      <td>NaN</td>\n",
       "    </tr>\n",
       "    <tr>\n",
       "      <th>1</th>\n",
       "      <td>When I couldn't find hand sanitizer at Fred Me...</td>\n",
       "      <td>NaN</td>\n",
       "    </tr>\n",
       "    <tr>\n",
       "      <th>2</th>\n",
       "      <td>Find out how you can protect yourself and love...</td>\n",
       "      <td>NaN</td>\n",
       "    </tr>\n",
       "    <tr>\n",
       "      <th>3</th>\n",
       "      <td>#Panic buying hits #NewYork City as anxious sh...</td>\n",
       "      <td>NaN</td>\n",
       "    </tr>\n",
       "    <tr>\n",
       "      <th>4</th>\n",
       "      <td>#toiletpaper #dunnypaper #coronavirus #coronav...</td>\n",
       "      <td>NaN</td>\n",
       "    </tr>\n",
       "  </tbody>\n",
       "</table>\n",
       "</div>"
      ],
      "text/plain": [
       "                                       OriginalTweet  Sentiment\n",
       "0  TRENDING: New Yorkers encounter empty supermar...        NaN\n",
       "1  When I couldn't find hand sanitizer at Fred Me...        NaN\n",
       "2  Find out how you can protect yourself and love...        NaN\n",
       "3  #Panic buying hits #NewYork City as anxious sh...        NaN\n",
       "4  #toiletpaper #dunnypaper #coronavirus #coronav...        NaN"
      ]
     },
     "execution_count": 9,
     "metadata": {},
     "output_type": "execute_result"
    }
   ],
   "source": [
    "submission_df = pd.read_csv(\"/kaggle/input/pandemic-tweet-challenge/submission_.csv\", encoding=\"ISO-8859-1\")\n",
    "submission_df.head()"
   ]
  },
  {
   "cell_type": "code",
   "execution_count": 10,
   "id": "09678435",
   "metadata": {
    "execution": {
     "iopub.execute_input": "2024-07-06T18:21:59.674613Z",
     "iopub.status.busy": "2024-07-06T18:21:59.673971Z",
     "iopub.status.idle": "2024-07-06T18:21:59.681795Z",
     "shell.execute_reply": "2024-07-06T18:21:59.681036Z"
    },
    "papermill": {
     "duration": 0.016967,
     "end_time": "2024-07-06T18:21:59.683851",
     "exception": false,
     "start_time": "2024-07-06T18:21:59.666884",
     "status": "completed"
    },
    "tags": []
   },
   "outputs": [
    {
     "name": "stdout",
     "output_type": "stream",
     "text": [
      "<class 'pandas.core.frame.DataFrame'>\n",
      "RangeIndex: 3798 entries, 0 to 3797\n",
      "Data columns (total 2 columns):\n",
      " #   Column         Non-Null Count  Dtype  \n",
      "---  ------         --------------  -----  \n",
      " 0   OriginalTweet  3798 non-null   object \n",
      " 1   Sentiment      0 non-null      float64\n",
      "dtypes: float64(1), object(1)\n",
      "memory usage: 59.5+ KB\n"
     ]
    }
   ],
   "source": [
    "submission_df.info()"
   ]
  },
  {
   "cell_type": "code",
   "execution_count": 11,
   "id": "9f931433",
   "metadata": {
    "execution": {
     "iopub.execute_input": "2024-07-06T18:21:59.698068Z",
     "iopub.status.busy": "2024-07-06T18:21:59.697817Z",
     "iopub.status.idle": "2024-07-06T18:24:35.874426Z",
     "shell.execute_reply": "2024-07-06T18:24:35.873637Z"
    },
    "papermill": {
     "duration": 156.186957,
     "end_time": "2024-07-06T18:24:35.876919",
     "exception": false,
     "start_time": "2024-07-06T18:21:59.689962",
     "status": "completed"
    },
    "tags": []
   },
   "outputs": [
    {
     "name": "stdout",
     "output_type": "stream",
     "text": [
      "[nltk_data] Downloading package stopwords to /usr/share/nltk_data...\n",
      "[nltk_data]   Package stopwords is already up-to-date!\n"
     ]
    }
   ],
   "source": [
    "import re\n",
    "from nltk.corpus import stopwords\n",
    "import nltk\n",
    "\n",
    "nltk.download('stopwords')\n",
    "\n",
    "def clean_text(text):\n",
    "    text = re.sub(r'http\\S+', '', text)  # Remove URLs\n",
    "    text = re.sub(r'@\\S+', '', text)  # Remove mentions\n",
    "    text = re.sub(r'#', '', text)  # Remove hashtags\n",
    "    text = re.sub(r'\\d+', '', text)  # Remove numbers\n",
    "    text = re.sub(r'[^\\w\\s]', '', text)  # Remove punctuation\n",
    "    text = text.lower()  # Convert to lowercase\n",
    "    text = ' '.join([word for word in text.split() if word not in stopwords.words('english')])  # Remove stopwords\n",
    "    return text\n",
    "\n",
    "train_df['cleaned_tweet'] = train_df['OriginalTweet'].apply(clean_text)\n",
    "test_df['cleaned_tweet'] = test_df['OriginalTweet'].apply(clean_text)"
   ]
  },
  {
   "cell_type": "markdown",
   "id": "6dd04303",
   "metadata": {
    "papermill": {
     "duration": 0.006198,
     "end_time": "2024-07-06T18:24:35.890265",
     "exception": false,
     "start_time": "2024-07-06T18:24:35.884067",
     "status": "completed"
    },
    "tags": []
   },
   "source": [
    "### Conclusion\n",
    "Data consists of 44157 tweets in training dataset and 3798 in testing dataset. Tweets contain some problematic symbols, urls, hashtags, mentions, numbers, punctuation and stopwords, which we clean. For some tweets there are no location, we fill this column with value 'unknown'\n",
    "\n",
    "We have submission dataframe with tweets which we have to classify as 'Neutral', 'Positive', 'Extremely Negative', 'Negative', or 'Extremely Positive' as in training dataframe"
   ]
  },
  {
   "cell_type": "markdown",
   "id": "d79f3b1e",
   "metadata": {
    "papermill": {
     "duration": 0.00609,
     "end_time": "2024-07-06T18:24:35.902722",
     "exception": false,
     "start_time": "2024-07-06T18:24:35.896632",
     "status": "completed"
    },
    "tags": []
   },
   "source": [
    "# Defining and training the model"
   ]
  },
  {
   "cell_type": "code",
   "execution_count": 12,
   "id": "a4a4b829",
   "metadata": {
    "execution": {
     "iopub.execute_input": "2024-07-06T18:24:35.917206Z",
     "iopub.status.busy": "2024-07-06T18:24:35.916910Z",
     "iopub.status.idle": "2024-07-06T18:24:38.394881Z",
     "shell.execute_reply": "2024-07-06T18:24:38.393774Z"
    },
    "papermill": {
     "duration": 2.487745,
     "end_time": "2024-07-06T18:24:38.397056",
     "exception": false,
     "start_time": "2024-07-06T18:24:35.909311",
     "status": "completed"
    },
    "tags": []
   },
   "outputs": [
    {
     "name": "stdout",
     "output_type": "stream",
     "text": [
      "                    precision    recall  f1-score   support\n",
      "\n",
      "Extremely Negative       0.60      0.58      0.59      1056\n",
      "Extremely Positive       0.63      0.64      0.63      1330\n",
      "          Negative       0.50      0.46      0.48      2006\n",
      "           Neutral       0.59      0.69      0.63      1553\n",
      "          Positive       0.51      0.49      0.50      2287\n",
      "\n",
      "          accuracy                           0.55      8232\n",
      "         macro avg       0.56      0.57      0.57      8232\n",
      "      weighted avg       0.55      0.55      0.55      8232\n",
      "\n"
     ]
    }
   ],
   "source": [
    "import pandas as pd\n",
    "\n",
    "from sklearn.feature_extraction.text import TfidfVectorizer\n",
    "from sklearn.model_selection import train_test_split\n",
    "from sklearn.svm import LinearSVC\n",
    "from sklearn.metrics import classification_report\n",
    "\n",
    "vectorizer = TfidfVectorizer(max_df=0.7)\n",
    "X = vectorizer.fit_transform(train_df['cleaned_tweet'])\n",
    "X_test = vectorizer.transform(test_df['cleaned_tweet'])\n",
    "y = train_df['Sentiment']\n",
    "\n",
    "X_train, X_val, y_train, y_val = train_test_split(X, y, test_size=0.2, random_state=42)\n",
    "\n",
    "svm_model = LinearSVC(random_state=42)\n",
    "svm_model.fit(X_train, y_train)\n",
    "\n",
    "y_pred = svm_model.predict(X_val)\n",
    "print(classification_report(y_val, y_pred))"
   ]
  },
  {
   "cell_type": "markdown",
   "id": "b63a8cdd",
   "metadata": {
    "papermill": {
     "duration": 0.006157,
     "end_time": "2024-07-06T18:24:38.410006",
     "exception": false,
     "start_time": "2024-07-06T18:24:38.403849",
     "status": "completed"
    },
    "tags": []
   },
   "source": [
    "# Making predictions and creating the submission"
   ]
  },
  {
   "cell_type": "code",
   "execution_count": 13,
   "id": "fb7b1aea",
   "metadata": {
    "execution": {
     "iopub.execute_input": "2024-07-06T18:24:38.424061Z",
     "iopub.status.busy": "2024-07-06T18:24:38.423775Z",
     "iopub.status.idle": "2024-07-06T18:24:38.617173Z",
     "shell.execute_reply": "2024-07-06T18:24:38.616434Z"
    },
    "papermill": {
     "duration": 0.20278,
     "end_time": "2024-07-06T18:24:38.619333",
     "exception": false,
     "start_time": "2024-07-06T18:24:38.416553",
     "status": "completed"
    },
    "tags": []
   },
   "outputs": [],
   "source": [
    "X_submission = vectorizer.transform(submission_df['OriginalTweet'])\n",
    "submission_predictions = svm_model.predict(X_submission)\n",
    "submission_df['Sentiment'] = submission_predictions\n",
    "submission_df.to_csv('submission.csv', index=False)"
   ]
  }
 ],
 "metadata": {
  "kaggle": {
   "accelerator": "gpu",
   "dataSources": [
    {
     "databundleVersionId": 2781224,
     "sourceId": 31916,
     "sourceType": "competition"
    }
   ],
   "dockerImageVersionId": 30733,
   "isGpuEnabled": true,
   "isInternetEnabled": true,
   "language": "python",
   "sourceType": "notebook"
  },
  "kernelspec": {
   "display_name": "Python 3",
   "language": "python",
   "name": "python3"
  },
  "language_info": {
   "codemirror_mode": {
    "name": "ipython",
    "version": 3
   },
   "file_extension": ".py",
   "mimetype": "text/x-python",
   "name": "python",
   "nbconvert_exporter": "python",
   "pygments_lexer": "ipython3",
   "version": "3.10.13"
  },
  "papermill": {
   "default_parameters": {},
   "duration": 163.391912,
   "end_time": "2024-07-06T18:24:39.145633",
   "environment_variables": {},
   "exception": null,
   "input_path": "__notebook__.ipynb",
   "output_path": "__notebook__.ipynb",
   "parameters": {},
   "start_time": "2024-07-06T18:21:55.753721",
   "version": "2.5.0"
  }
 },
 "nbformat": 4,
 "nbformat_minor": 5
}
